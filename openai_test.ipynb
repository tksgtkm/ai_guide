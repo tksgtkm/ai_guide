{
 "cells": [
  {
   "cell_type": "code",
   "execution_count": 1,
   "id": "1d617718-43a2-4a32-8dae-666891d1a539",
   "metadata": {},
   "outputs": [],
   "source": [
    "import openai\n",
    "import os"
   ]
  },
  {
   "cell_type": "code",
   "execution_count": 2,
   "id": "66c2c029-e1b3-4ef3-8447-b863552dd832",
   "metadata": {},
   "outputs": [],
   "source": [
    "openai.api_key = \"API-KEY\""
   ]
  },
  {
   "cell_type": "code",
   "execution_count": 3,
   "id": "03e42fe3-11b7-47e9-9be5-62dbb0ea166e",
   "metadata": {},
   "outputs": [
    {
     "name": "stdout",
     "output_type": "stream",
     "text": [
      "はじめまして！私はあなたのアシスタントとして、必要な情報やタスクをサポートすることができます。何かお手伝いできることがあれば、遠慮なく言ってくださいね。\n"
     ]
    }
   ],
   "source": [
    "response = openai.ChatCompletion.create(\n",
    "  model=\"gpt-3.5-turbo\",\n",
    "  messages=[\n",
    "    {\"role\": \"system\", \"content\": \"あなたは役に立つアシスタントです。\"},\n",
    "    {\"role\": \"user\", \"content\": \"はじめまして\"},\n",
    "  ]\n",
    ")\n",
    "print(response[\"choices\"][0][\"message\"][\"content\"])"
   ]
  },
  {
   "cell_type": "code",
   "execution_count": 5,
   "id": "7641634d-1960-4607-8275-34bf53a519b9",
   "metadata": {},
   "outputs": [],
   "source": [
    "response_text = response[\"choices\"][0][\"message\"][\"content\"]"
   ]
  },
  {
   "cell_type": "code",
   "execution_count": 6,
   "id": "dc79df34-4c23-4dc1-934e-7c169335ed8f",
   "metadata": {},
   "outputs": [
    {
     "data": {
      "text/plain": [
       "'はじめまして！私はあなたのアシスタントとして、必要な情報やタスクをサポートすることができます。何かお手伝いできることがあれば、遠慮なく言ってくださいね。'"
      ]
     },
     "execution_count": 6,
     "metadata": {},
     "output_type": "execute_result"
    }
   ],
   "source": [
    "response_text"
   ]
  },
  {
   "cell_type": "code",
   "execution_count": 7,
   "id": "74b05db9-76f0-46f9-b20c-093b0f9fd608",
   "metadata": {},
   "outputs": [
    {
     "name": "stdout",
     "output_type": "stream",
     "text": [
      "はい、最新のトレンドは検索エンジンによって異なりますが、Google Trendsを使用すると、特定のキーワードの検索トレンドを把握することができます。また、TwitterのトレンドやFacebookのインサイトなど、他のプラットフォームでもトレンド情報を取得することができます。ただし、それらの情報が必ずしも正確であるとは限らないため、複数のソースから情報を収集することが重要です。\n"
     ]
    }
   ],
   "source": [
    "response = openai.ChatCompletion.create(\n",
    "  model=\"gpt-3.5-turbo\",\n",
    "  messages=[\n",
    "    {\"role\": \"system\", \"content\": \"あなたは役に立つアシスタントです。\"},\n",
    "    {\"role\": \"user\", \"content\": \"検索エンジンでの最新のトレンドはご存知ですか？\"},\n",
    "  ]\n",
    ")\n",
    "print(response[\"choices\"][0][\"message\"][\"content\"])"
   ]
  },
  {
   "cell_type": "code",
   "execution_count": 8,
   "id": "24bc34da-f584-4092-8e15-c0490cac47d8",
   "metadata": {},
   "outputs": [],
   "source": [
    "response_text = response[\"choices\"][0][\"message\"][\"content\"]"
   ]
  },
  {
   "cell_type": "code",
   "execution_count": 13,
   "id": "8b6421a5-cf94-4b62-b71b-eba87337dfe8",
   "metadata": {},
   "outputs": [
    {
     "name": "stdout",
     "output_type": "stream",
     "text": [
      "複数の情報から判断する際のポイントは、以下のようなものがあります。\n",
      "\n",
      "1. 情報源の信頼性：情報の出所や提供者が信頼できるかどうかを確認しましょう。信頼できる情報源からの情報に基づいて判断することが大切です。\n",
      "\n",
      "2. 情報の一致度合い：複数の情報源で似たような情報が提供されているかどうかを確認しましょう。複数の情報源で似たような情報が提供されている場合、その情報の信憑性は高いと言えます。\n",
      "\n",
      "3. 情報の矛盾点：複数の情報源で情報が食い違っている場合は、信憑性が低いと考えることができます。この場合は、正確な情報を確認するため、さらに調査が必要になる場合があります。\n",
      "\n",
      "4. 情報の時代性：情報が最新かどうかを確認しましょう。古い情報を基に判断をすると、現在の状況と異なる場合があります。\n",
      "\n",
      "これらのポイントを踏まえて、複数の情報源から集めた情報を総合的に判断しましょう。\n"
     ]
    }
   ],
   "source": [
    "response = openai.ChatCompletion.create(\n",
    "  model=\"gpt-3.5-turbo\",\n",
    "  messages=[\n",
    "    {\"role\": \"system\", \"content\": \"あなたは役に立つアシスタントです。\"},\n",
    "    {\"role\": \"user\", \"content\": \"検索エンジンでの最新のトレンドはご存知ですか？\"},\n",
    "    {\"role\": \"assistant\", \"content\": \"はい、最新のトレンドは検索エンジンによって異なりますが、Google Trendsを使用すると、特定のキーワードの検索トレンドを把握することができます。また、TwitterのトレンドやFacebookのインサイトなど、他のプラットフォームでもトレンド情報を取得することができます。ただし、それらの情報が必ずしも正確であるとは限らないため、複数のソースから情報を収集することが重要です。\"},\n",
    "    {\"role\": \"user\", \"content\": \"複数のソースから情報を収集することが大事とのことですが、複数の情報から判断する際のポイントは何でしょう？\"}\n",
    "  ]\n",
    ")\n",
    "print(response[\"choices\"][0][\"message\"][\"content\"])"
   ]
  },
  {
   "cell_type": "code",
   "execution_count": 10,
   "id": "ef602287-7559-4fc9-8266-da0d82101ed0",
   "metadata": {},
   "outputs": [
    {
     "data": {
      "text/plain": [
       "'はい、最新のトレンドは検索エンジンによって異なりますが、Google Trendsを使用すると、特定のキーワードの検索トレンドを把握することができます。また、TwitterのトレンドやFacebookのインサイトなど、他のプラットフォームでもトレンド情報を取得することができます。ただし、それらの情報が必ずしも正確であるとは限らないため、複数のソースから情報を収集することが重要です。'"
      ]
     },
     "execution_count": 10,
     "metadata": {},
     "output_type": "execute_result"
    }
   ],
   "source": [
    "response_text"
   ]
  },
  {
   "cell_type": "code",
   "execution_count": null,
   "id": "06c5212b-33e0-4caa-887b-0cc870f25c17",
   "metadata": {},
   "outputs": [],
   "source": []
  }
 ],
 "metadata": {
  "kernelspec": {
   "display_name": "Python 3 (ipykernel)",
   "language": "python",
   "name": "python3"
  },
  "language_info": {
   "codemirror_mode": {
    "name": "ipython",
    "version": 3
   },
   "file_extension": ".py",
   "mimetype": "text/x-python",
   "name": "python",
   "nbconvert_exporter": "python",
   "pygments_lexer": "ipython3",
   "version": "3.8.10"
  }
 },
 "nbformat": 4,
 "nbformat_minor": 5
}
