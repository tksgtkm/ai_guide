{
 "cells": [
  {
   "cell_type": "code",
   "execution_count": 1,
   "id": "f307be13-bf5e-4b91-a926-6b1358c29691",
   "metadata": {},
   "outputs": [],
   "source": [
    "import openai\n",
    "import os"
   ]
  },
  {
   "cell_type": "code",
   "execution_count": 2,
   "id": "de9ef66d-9ca2-47cd-8cdf-a5098eaada79",
   "metadata": {},
   "outputs": [],
   "source": [
    "openai.api_key = \"API-KEY\""
   ]
  },
  {
   "cell_type": "code",
   "execution_count": 3,
   "id": "84c5023b-e2ed-4e43-aca3-5ab71662fc41",
   "metadata": {},
   "outputs": [
    {
     "name": "stdout",
     "output_type": "stream",
     "text": [
      "大阪府について記述された日本語のWikipediaページです。大阪府の地理、歴史、産業、政治等に関する情報が掲載されています。大阪府は、関西地方に位置し、人口は880万人を超え、日本の中でも有数の都道府県です。大阪市をはじめ、豊中市、堺市等の市町村があり、交通網も充実しています。また、大阪府内には工業地帯や港湾地帯が広がり、企業も多数進出しています。\n"
     ]
    }
   ],
   "source": [
    "response = openai.ChatCompletion.create(\n",
    "  model=\"gpt-3.5-turbo\",\n",
    "  messages=[\n",
    "    {\"role\": \"system\", \"content\": \"あなたは役に立つアシスタントです。\"},\n",
    "    {\"role\": \"user\", \"content\": \"\"\"\n",
    "    下記のURLの内容を要約してください\n",
    "    https://ja.wikipedia.org/wiki/%E5%A4%A7%E9%98%AA%E5%BA%9C\n",
    "    \"\"\"},\n",
    "  ]\n",
    ")\n",
    "print(response[\"choices\"][0][\"message\"][\"content\"])"
   ]
  },
  {
   "cell_type": "code",
   "execution_count": 4,
   "id": "b6347585-97f5-473b-8929-e4df0ef71ba4",
   "metadata": {},
   "outputs": [],
   "source": [
    "response_text = response[\"choices\"][0][\"message\"][\"content\"]"
   ]
  },
  {
   "cell_type": "code",
   "execution_count": 7,
   "id": "9748d906-462b-4fa1-ac49-23d193b5f9d3",
   "metadata": {},
   "outputs": [],
   "source": [
    "response = openai.ChatCompletion.create(\n",
    "  model=\"gpt-3.5-turbo\",\n",
    "  messages=[\n",
    "    {\"role\": \"system\", \"content\": \"あなたは役に立つアシスタントです。\"},\n",
    "    {\"role\": \"system\", \"content\": response_text},\n",
    "    {\"role\": \"user\", \"content\": \"\"\"\n",
    "    大阪で現存する最古のうどん屋さんはわかりますか？\n",
    "    \"\"\"},\n",
    "  ]\n",
    ")"
   ]
  },
  {
   "cell_type": "code",
   "execution_count": 8,
   "id": "c5a68775-3ac9-4873-9912-0f68fc4ed070",
   "metadata": {},
   "outputs": [
    {
     "name": "stdout",
     "output_type": "stream",
     "text": [
      "大阪で現存する最古のうどん屋さんは、「丸亀製麺」です。同店は、1946年に創業し、大阪府を中心に全国展開しているチェーン店です。\n"
     ]
    }
   ],
   "source": [
    "print(response[\"choices\"][0][\"message\"][\"content\"])"
   ]
  },
  {
   "cell_type": "code",
   "execution_count": 10,
   "id": "3cdd5f71-6143-4833-8b3e-0892ea1af098",
   "metadata": {},
   "outputs": [
    {
     "data": {
      "text/plain": [
       "'大阪で現存する最古のうどん屋さんは、「丸亀製麺」です。同店は、1946年に創業し、大阪府を中心に全国展開しているチェーン店です。'"
      ]
     },
     "execution_count": 10,
     "metadata": {},
     "output_type": "execute_result"
    }
   ],
   "source": [
    "question_2 = \"大阪で現存する最古のうどん屋さんはわかりますか？\"\n",
    "response_text2 = response[\"choices\"][0][\"message\"][\"content\"]\n",
    "response_text2"
   ]
  },
  {
   "cell_type": "code",
   "execution_count": 11,
   "id": "f2fcd462-f148-4b36-8385-39e43ebe2ca8",
   "metadata": {},
   "outputs": [],
   "source": [
    "question_3 = \"いえ、最古のうどん屋さんは丸亀製麺ではありません\"\n",
    "\n",
    "response = openai.ChatCompletion.create(\n",
    "  model=\"gpt-3.5-turbo\",\n",
    "  messages=[\n",
    "    {\"role\": \"system\", \"content\": \"あなたは役に立つアシスタントです。\"},\n",
    "    {\"role\": \"system\", \"content\": response_text},\n",
    "    {\"role\": \"user\", \"content\": question_2},\n",
    "    {\"role\": \"system\", \"content\": response_text2},\n",
    "    {\"role\": \"user\", \"content\": question_3},\n",
    "  ]\n",
    ")"
   ]
  },
  {
   "cell_type": "code",
   "execution_count": 12,
   "id": "8a2c0c41-9673-4db8-846e-310dc2b6cf3e",
   "metadata": {},
   "outputs": [
    {
     "data": {
      "text/plain": [
       "'申し訳ありません、誤った情報を伝えてしまいました。大阪で現存する最古のうどん屋さんは「まるよし」です。同店は、1884年に創業し、大阪市北区で営業を続けています。店内で手打ちうどんを提供しています。'"
      ]
     },
     "execution_count": 12,
     "metadata": {},
     "output_type": "execute_result"
    }
   ],
   "source": [
    "response_text3 = response[\"choices\"][0][\"message\"][\"content\"]\n",
    "response_text3"
   ]
  },
  {
   "cell_type": "code",
   "execution_count": 13,
   "id": "58db1d3f-97b7-47ba-a40d-0a7b318b44ef",
   "metadata": {},
   "outputs": [],
   "source": [
    "question_4 = \"大阪の最古のうどん屋は吾妻ではないですか？\"\n",
    "\n",
    "response = openai.ChatCompletion.create(\n",
    "  model=\"gpt-3.5-turbo\",\n",
    "  messages=[\n",
    "    {\"role\": \"system\", \"content\": \"あなたは役に立つアシスタントです。\"},\n",
    "    {\"role\": \"system\", \"content\": response_text},\n",
    "    {\"role\": \"user\", \"content\": question_2},\n",
    "    {\"role\": \"system\", \"content\": response_text2},\n",
    "    {\"role\": \"user\", \"content\": question_3},\n",
    "    {\"role\": \"system\", \"content\": response_text3},\n",
    "    {\"role\": \"user\", \"content\": question_4},\n",
    "  ]\n",
    ")"
   ]
  },
  {
   "cell_type": "code",
   "execution_count": 14,
   "id": "ba751ec9-4a67-48f5-84e1-e9abd3038374",
   "metadata": {},
   "outputs": [
    {
     "data": {
      "text/plain": [
       "'大阪の最古のうどん屋は諸説あるようですが、吾妻(あづま)はそのひとつとして知られています。吾妻は、1665年(寛文5年)に創業し、大阪府大阪市中央区に店を構えています。1737年(元文2年)には、うどんの茹で方に革命をもたらし、現在の茹で方に至る改良を加えたことから、大阪うどんの一大拠点として知られています。'"
      ]
     },
     "execution_count": 14,
     "metadata": {},
     "output_type": "execute_result"
    }
   ],
   "source": [
    "response_text4 = response[\"choices\"][0][\"message\"][\"content\"]\n",
    "response_text4"
   ]
  },
  {
   "cell_type": "code",
   "execution_count": 18,
   "id": "69738e71-ffd4-4402-a6ed-48c07c02a2ee",
   "metadata": {},
   "outputs": [],
   "source": [
    "question_1 = \"\"\"\n",
    "    下記のURLの内容を要約してください\n",
    "    https://ja.wikipedia.org/wiki/%E5%A4%A7%E9%98%AA%E5%BA%9C\n",
    "    \"\"\""
   ]
  },
  {
   "cell_type": "code",
   "execution_count": 20,
   "id": "27ccb60d-ede0-447e-b4da-82b53b08c734",
   "metadata": {},
   "outputs": [],
   "source": [
    "question_1_byte = question_1.encode('utf-8')"
   ]
  },
  {
   "cell_type": "code",
   "execution_count": 15,
   "id": "de07e1f6-d445-4d40-a421-60b4e5df2b6f",
   "metadata": {},
   "outputs": [],
   "source": [
    "import plyvel"
   ]
  },
  {
   "cell_type": "code",
   "execution_count": 16,
   "id": "8590525a-fb39-434a-933f-ae596db42ae0",
   "metadata": {},
   "outputs": [],
   "source": [
    "db = plyvel.DB('/tmp/testdb/', create_if_missing=True)"
   ]
  },
  {
   "cell_type": "code",
   "execution_count": 21,
   "id": "2f460aab-d091-4fc7-888c-3dc3a56b08ac",
   "metadata": {},
   "outputs": [],
   "source": [
    "db.put(b'qs1', question_1_byte)"
   ]
  },
  {
   "cell_type": "code",
   "execution_count": 23,
   "id": "d469b5f4-832a-46d5-a753-f9ce8455e5f1",
   "metadata": {},
   "outputs": [],
   "source": [
    "value = db.get(b'qs1')"
   ]
  },
  {
   "cell_type": "code",
   "execution_count": 25,
   "id": "1b9097ab-d7c7-4891-ad2b-c97f96e7dc3e",
   "metadata": {},
   "outputs": [
    {
     "data": {
      "text/plain": [
       "'\\n    下記のURLの内容を要約してください\\n    https://ja.wikipedia.org/wiki/%E5%A4%A7%E9%98%AA%E5%BA%9C\\n    '"
      ]
     },
     "execution_count": 25,
     "metadata": {},
     "output_type": "execute_result"
    }
   ],
   "source": [
    "value.decode('utf-8')"
   ]
  },
  {
   "cell_type": "code",
   "execution_count": null,
   "id": "bdc42e19-d978-4df4-87f5-2c22d779a60b",
   "metadata": {},
   "outputs": [],
   "source": []
  }
 ],
 "metadata": {
  "kernelspec": {
   "display_name": "Python 3 (ipykernel)",
   "language": "python",
   "name": "python3"
  },
  "language_info": {
   "codemirror_mode": {
    "name": "ipython",
    "version": 3
   },
   "file_extension": ".py",
   "mimetype": "text/x-python",
   "name": "python",
   "nbconvert_exporter": "python",
   "pygments_lexer": "ipython3",
   "version": "3.8.10"
  }
 },
 "nbformat": 4,
 "nbformat_minor": 5
}
